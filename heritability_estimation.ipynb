{
 "cells": [
  {
   "cell_type": "markdown",
   "metadata": {},
   "source": [
    "Script Description:\n",
    "-------------------\n",
    "This script is developed for doing simple heritability estimation testing using SLMM. \n",
    "It involves the use of genotype and phenotype files created through specific settings \n",
    "and simulations. The script includes classes and methods for estimating heritability \n",
    "and visualizing the results.\n",
    "\n",
    "Dependencies:\n",
    "-------------\n",
    "- numpy==1.23.5\n",
    "- pandas==1.5.2\n",
    "- slmm==1.0\n",
    "- matplotlib==3.8.0\n",
    "\n",
    "Files Required:\n",
    "---------------\n",
    "- Genotype files: test.bed, test.fam, test.bim. The number of SNPs is set to 1000 with 10000 samples.\n",
    "- Phenotype files: single.h2.0.10.10000.phen, single.h2.0.20.10000.phen with heritability of 0.1 and 0.2 seperately.\n"
   ]
  },
  {
   "cell_type": "code",
   "execution_count": 1,
   "metadata": {},
   "outputs": [],
   "source": [
    "# Importing necessary libraries\n",
    "import numpy as np\n",
    "import pandas as pd\n",
    "from slmm.kernel import LinearKernel, NoiseKernel\n",
    "from slmm._model_ai import AverageInformation as LMM\n",
    "import time\n",
    "import matplotlib.pyplot as plt\n",
    "import matplotlib.ticker as ticker\n",
    "\n",
    "# Setting plot parameters for aesthetics\n",
    "plt.rcParams[\"axes.linewidth\"] = 2.0 "
   ]
  },
  {
   "cell_type": "code",
   "execution_count": 2,
   "metadata": {},
   "outputs": [],
   "source": [
    "# Defining parameters for heritability estimations\n",
    "snps = 1000  # Number of SNPs included in the kernel for estimation\n",
    "sample_size = 10000  # Size of the sample"
   ]
  },
  {
   "cell_type": "code",
   "execution_count": 3,
   "metadata": {},
   "outputs": [],
   "source": [
    "class H2_estimation:\n",
    "    \"\"\"\n",
    "    A class to estimate heritability using SLMM.\n",
    "\n",
    "    Attributes:\n",
    "    -----------\n",
    "    SEED : int\n",
    "        A seed value for random number generation.\n",
    "    snps : int\n",
    "        The number of SNPs to be included in the analysis.\n",
    "    H2_1 : float\n",
    "        The simulated heritability value.\n",
    "    result_path : str\n",
    "        Path to store results.\n",
    "    GENOTYPE_N_SAMPLES : int\n",
    "        Number of genotype samples.\n",
    "    GENOTYPE_FILENAME : str\n",
    "        Path to the genotype file.\n",
    "    y : array\n",
    "        Phenotype values.\n",
    "    M : array\n",
    "        Covariate matrix.\n",
    "\n",
    "    Methods:\n",
    "    --------\n",
    "    define_kernels():\n",
    "        Defines the kernels required for SLMM.\n",
    "    fit():\n",
    "        Fits the LMM model to the data.\n",
    "    \"\"\"\n",
    "\n",
    "    def __init__(self, SIM_NO, simulated_sample, snps, H2):\n",
    "        phenotype_path = \"./\"\n",
    "        self.SEED = 1234\n",
    "        self.snps = snps\n",
    "        self.H2_1 = H2\n",
    "        self.result_path = \"./\"\n",
    "        self.GENOTYPE_N_SAMPLES = simulated_sample\n",
    "        self.GENOTYPE_FILENAME = \"./\"\n",
    "\n",
    "        # Loading phenotypes and covariates\n",
    "        file = pd.read_csv(f'{phenotype_path}/single.h2.{self.H2_1:.2f}.{self.GENOTYPE_N_SAMPLES}.phen', header=None, sep=' ')\n",
    "        phenotype = file.iloc[:, 2+SIM_NO].values\n",
    "        self.y = phenotype\n",
    "        self.M = np.ones((self.GENOTYPE_N_SAMPLES, 1))\n",
    "        self.SIM_NO = SIM_NO\n",
    "\n",
    "    def define_kernels(self):\n",
    "        # Defining and loading genotype and noise kernels\n",
    "        K_q = LinearKernel(file_name=f\"{self.GENOTYPE_FILENAME}/test\", file_type=\"bed\", \n",
    "                           n_sample=self.GENOTYPE_N_SAMPLES, name=\"test_snps\", \n",
    "                           n_features=self.snps, n_thread=20, load=True, in_core=True)\n",
    "        I = NoiseKernel(self.GENOTYPE_N_SAMPLES)\n",
    "        self.V = K_q + I\n",
    "\n",
    "        # Defining the LMM model\n",
    "        self.LMM = LMM(kernels=self.V, y=self.y, X=self.M, seed=self.SEED,\n",
    "                       id=f\"h2.{self.H2_1}.sample_size.{sample_size}.{self.SIM_NO}\", \n",
    "                       n_thread=40, solver_max_iter=500, n_probe_start=20, pretrain=False, \n",
    "                       optimizer_convergence_tol_start=1.0, optimizer_convergence_tol_final=1e-6,\n",
    "                       path=self.result_path, perform_final_step=False)\n",
    "\n",
    "    def fit(self):\n",
    "        # Fitting the LMM model\n",
    "        self.define_kernels()\n",
    "        self.LMM.fit()"
   ]
  },
  {
   "cell_type": "code",
   "execution_count": null,
   "metadata": {},
   "outputs": [],
   "source": [
    "# Simulation parameters\n",
    "start = 0\n",
    "end = 5  # Fitting 10 replicates of simulated data\n",
    "num_simulations = 100\n",
    "all_sims = range(num_simulations)\n",
    "\n",
    "# DataFrame to store sigma estimates\n",
    "sigma_df = pd.DataFrame()\n",
    "sigma_estimates = dict()\n",
    "\n",
    "# Measuring the time taken for the simulation\n",
    "time_start = time.time()\n",
    "\n",
    "# Looping through heritability values and simulations\n",
    "for h2 in [0.1, 0.2]:\n",
    "    for sim_no in all_sims[start:end]:\n",
    "        test_q = H2_estimation(SIM_NO=sim_no, simulated_sample=sample_size, snps=snps, H2=h2)\n",
    "        test_q.fit()\n",
    "        sigma = test_q.LMM.parameters[0]\n",
    "        sigma_estimates[sim_no] = sigma\n",
    "        del test_q\n",
    "\n",
    "    sig = pd.DataFrame.from_dict(sigma_estimates, orient=\"index\")\n",
    "    sigma_df[f\"Simulated heritability:{h2}\"] = sig\n",
    "\n",
    "time_end = time.time()\n",
    "print(f\"Run time is {time_end-time_start} sec.\")"
   ]
  },
  {
   "cell_type": "code",
   "execution_count": 5,
   "metadata": {},
   "outputs": [
    {
     "data": {
      "image/png": "[encoded data removed]",
      "text/plain": [
       "<Figure size 600x500 with 1 Axes>"
      ]
     },
     "metadata": {},
     "output_type": "display_data"
    }
   ],
   "source": [
    "# Visualization of results\n",
    "fig, axes = plt.subplots(nrows=1, ncols=1, figsize=(6, 5), sharey=True)\n",
    "boxplot = axes.boxplot(sigma_df, patch_artist=True)\n",
    "\n",
    "# Customizing boxplot components\n",
    "for box in boxplot['boxes']:\n",
    "    box.set_facecolor('#eeeeee')  # Setting the box color\n",
    "    box.set_linestyle('-')  # Setting the line style for the boxes\n",
    "\n",
    "for median in boxplot['medians']:\n",
    "    median.set_color('black')  # Setting the median line color\n",
    "\n",
    "for whisker in boxplot['whiskers']:\n",
    "    whisker.set_linestyle(':')  # Setting the whisker line style\n",
    "\n",
    "# Final plot adjustments\n",
    "plt.tight_layout()\n",
    "plt.ylim(0, 0.2)\n",
    "axes.yaxis.set_major_locator(ticker.MultipleLocator(0.1))\n",
    "plt.tick_params(labelsize=10, length=6, width=1, axis='both', direction='in')\n",
    "plt.ylabel(\"Estimated heritability\", fontsize=10, fontweight='bold')\n",
    "axes.set_xticklabels(['Simulated heritability:0.1', 'Simulated heritability:0.2'], fontsize=10, fontweight='bold')\n",
    "for label in axes.get_yticklabels():\n",
    "    label.set_fontweight('bold')\n",
    "\n",
    "# Displaying the plot\n",
    "plt.axhline(y=0.1, color='black', linestyle='--')\n",
    "plt.show()\n"
   ]
  }
 ],
 "metadata": {
  "kernelspec": {
   "display_name": "Python 3.9.16 ('my_slmm')",
   "language": "python",
   "name": "python3"
  },
  "language_info": {
   "codemirror_mode": {
    "name": "ipython",
    "version": 3
   },
   "file_extension": ".py",
   "mimetype": "text/x-python",
   "name": "python",
   "nbconvert_exporter": "python",
   "pygments_lexer": "ipython3",
   "version": "3.9.18"
  },
  "orig_nbformat": 4,
  "vscode": {
   "interpreter": {
    "hash": "3d188b4dabbabab4183b1979189ef802c964f47b2bf3de9fd2f12c5b189aa14d"
   }
  }
 },
 "nbformat": 4,
 "nbformat_minor": 2
}
